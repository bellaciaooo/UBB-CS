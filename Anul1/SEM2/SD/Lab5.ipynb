{
 "cells": [
  {
   "cell_type": "code",
   "execution_count": 1,
   "metadata": {},
   "outputs": [
    {
     "data": {
      "text/html": [
       "<html><script type=\"math/tex; mode=display\">\\newcommand{\\Bold}[1]{\\mathbf{#1}}K_{2} \\cos\\left(t w_{0}\\right) + K_{1} \\sin\\left(t w_{0}\\right)</script></html>"
      ],
      "text/latex": [
       "$$\\newcommand{\\Bold}[1]{\\mathbf{#1}}K_{2} \\cos\\left(t w_{0}\\right) + K_{1} \\sin\\left(t w_{0}\\right)$$"
      ],
      "text/plain": [
       "_K2*cos(t*w0) + _K1*sin(t*w0)"
      ]
     },
     "metadata": {},
     "output_type": "display_data"
    }
   ],
   "source": [
    "#Exercitiul 1: Se considera ecuatia diferentiala ce descrie miscarea oscilatorului armonic(fara frecare)\n",
    "# a)\n",
    "reset()\n",
    "x = var('x')\n",
    "t = var('t')\n",
    "w0 = var('w0')\n",
    "\n",
    "x = function('x')(t)\n",
    "eqd = diff(x, t, 2) + w0^2*x == 0\n",
    "\n",
    "assume(w0 > 0)\n",
    "\n",
    "ans1 = desolve(eqd, [x, t])\n",
    "\n",
    "show(ans1)"
   ]
  },
  {
   "cell_type": "code",
   "execution_count": 2,
   "metadata": {},
   "outputs": [
    {
     "data": {
      "text/html": [
       "<html><script type=\"math/tex; mode=display\">\\newcommand{\\Bold}[1]{\\mathbf{#1}}x_{0} \\cos\\left(t w_{0}\\right) + \\frac{v_{0} \\sin\\left(t w_{0}\\right)}{w_{0}}</script></html>"
      ],
      "text/latex": [
       "$$\\newcommand{\\Bold}[1]{\\mathbf{#1}}x_{0} \\cos\\left(t w_{0}\\right) + \\frac{v_{0} \\sin\\left(t w_{0}\\right)}{w_{0}}$$"
      ],
      "text/plain": [
       "x0*cos(t*w0) + v0*sin(t*w0)/w0"
      ]
     },
     "metadata": {},
     "output_type": "display_data"
    }
   ],
   "source": [
    "# b)\n",
    "x0,v0 = var('x0,v0')\n",
    "assume(w0 > 0)\n",
    "\n",
    "ans2 = desolve(eqd, [x, t], [0, x0, v0])\n",
    "show(ans2)"
   ]
  },
  {
   "cell_type": "code",
   "execution_count": 4,
   "metadata": {},
   "outputs": [
    {
     "data": {
      "text/html": [
       "<html><script type=\"math/tex; mode=display\">\\newcommand{\\Bold}[1]{\\mathbf{#1}}K_{2} e^{\\left(-\\frac{1}{2} \\, {\\left(l + \\sqrt{l^{2} - 4 \\, w_{0}^{2}}\\right)} t\\right)} + K_{1} e^{\\left(-\\frac{1}{2} \\, {\\left(l - \\sqrt{l^{2} - 4 \\, w_{0}^{2}}\\right)} t\\right)}</script></html>"
      ],
      "text/latex": [
       "$$\\newcommand{\\Bold}[1]{\\mathbf{#1}}K_{2} e^{\\left(-\\frac{1}{2} \\, {\\left(l + \\sqrt{l^{2} - 4 \\, w_{0}^{2}}\\right)} t\\right)} + K_{1} e^{\\left(-\\frac{1}{2} \\, {\\left(l - \\sqrt{l^{2} - 4 \\, w_{0}^{2}}\\right)} t\\right)}$$"
      ],
      "text/plain": [
       "_K2*e^(-1/2*(l + sqrt(l^2 - 4*w0^2))*t) + _K1*e^(-1/2*(l - sqrt(l^2 - 4*w0^2))*t)"
      ]
     },
     "metadata": {},
     "output_type": "display_data"
    }
   ],
   "source": [
    "# Exercitiul 2 : Se considera ecuatia diferentiala ce descrie miscarea oscilatorului armonic cu frecares\n",
    "# a)\n",
    "reset()\n",
    "t = var('t')\n",
    "x = SR.var('x')\n",
    "w0 = SR.var('w0')\n",
    "l = var('l')\n",
    "x = function('x')(t)\n",
    "eqd = diff(x, t, 2) + l*diff(x, t) + w0^2*x == 0\n",
    "\n",
    "assume(l^2 > 4*w0^2)\n",
    "ans = desolve(eqd, [x, t])\n",
    "show(ans)"
   ]
  },
  {
   "cell_type": "code",
   "execution_count": 12,
   "metadata": {},
   "outputs": [
    {
     "data": {
      "text/html": [
       "<html><script type=\"math/tex; mode=display\">\\newcommand{\\Bold}[1]{\\mathbf{#1}}\\frac{5}{3} \\, e^{\\left(-5 \\, t\\right)} - \\frac{2}{3} \\, e^{\\left(-20 \\, t\\right)}</script></html>"
      ],
      "text/latex": [
       "$$\\newcommand{\\Bold}[1]{\\mathbf{#1}}\\frac{5}{3} \\, e^{\\left(-5 \\, t\\right)} - \\frac{2}{3} \\, e^{\\left(-20 \\, t\\right)}$$"
      ],
      "text/plain": [
       "5/3*e^(-5*t) - 2/3*e^(-20*t)"
      ]
     },
     "metadata": {},
     "output_type": "display_data"
    },
    {
     "data": {
      "image/png": "[encoded data removed]",
      "text/plain": [
       "Graphics object consisting of 1 graphics primitive"
      ]
     },
     "execution_count": 12,
     "metadata": {},
     "output_type": "execute_result"
    }
   ],
   "source": [
    "# b)\n",
    "eqd1 = diff(x, t, 2) + 25*diff(x, t) + 100*x == 0\n",
    "ans1 = desolve(eqd1, [x, t], [0, 1, 5])\n",
    "show(ans1)\n",
    "sol(t, l, w0, x0, v0) = ans1\n",
    "plot(sol(t, 25, 10, 1, 5), t, -5 , 5, ymin= -3, ymax = 3)"
   ]
  },
  {
   "cell_type": "code",
   "execution_count": 22,
   "metadata": {},
   "outputs": [
    {
     "data": {
      "text/html": [
       "<html><script type=\"math/tex; mode=display\">\\newcommand{\\Bold}[1]{\\mathbf{#1}}{\\left(K_{2} t + K_{1}\\right)} e^{\\left(-t w_{0}\\right)}</script></html>"
      ],
      "text/latex": [
       "$$\\newcommand{\\Bold}[1]{\\mathbf{#1}}{\\left(K_{2} t + K_{1}\\right)} e^{\\left(-t w_{0}\\right)}$$"
      ],
      "text/plain": [
       "(_K2*t + _K1)*e^(-t*w0)"
      ]
     },
     "metadata": {},
     "output_type": "display_data"
    }
   ],
   "source": [
    "#c\n",
    "eqd2 = diff(x, t, 2) + 2*w0*diff(x, t) + w0^2*x == 0\n",
    "assume(w0 > 0)\n",
    "ans2 = desolve(eqd2, [x, t])\n",
    "show(ans2)"
   ]
  },
  {
   "cell_type": "code",
   "execution_count": 25,
   "metadata": {},
   "outputs": [
    {
     "data": {
      "text/html": [
       "<html><script type=\"math/tex; mode=display\">\\newcommand{\\Bold}[1]{\\mathbf{#1}}{\\left(15 \\, t + 1\\right)} e^{\\left(-10 \\, t\\right)}</script></html>"
      ],
      "text/latex": [
       "$$\\newcommand{\\Bold}[1]{\\mathbf{#1}}{\\left(15 \\, t + 1\\right)} e^{\\left(-10 \\, t\\right)}$$"
      ],
      "text/plain": [
       "(15*t + 1)*e^(-10*t)"
      ]
     },
     "metadata": {},
     "output_type": "display_data"
    },
    {
     "data": {
      "image/png": "[encoded data removed]",
      "text/plain": [
       "Graphics object consisting of 1 graphics primitive"
      ]
     },
     "execution_count": 25,
     "metadata": {},
     "output_type": "execute_result"
    }
   ],
   "source": [
    "#d\n",
    "eqd3 = diff(x, t, 2) + 20*diff(x, t) + 100*x == 0\n",
    "ans3 = desolve(eqd3, [x, t], [0, 1, 5])\n",
    "show(ans3)\n",
    "sol(t, l, w0, x0, v0) = ans3\n",
    "plot(sol(t, 25, 10, 1, 5), t, -5 , 5, ymin= -3, ymax = 3)"
   ]
  },
  {
   "cell_type": "code",
   "execution_count": 31,
   "metadata": {},
   "outputs": [
    {
     "data": {
      "text/html": [
       "<html><script type=\"math/tex; mode=display\">\\newcommand{\\Bold}[1]{\\mathbf{#1}}{\\left(K_{2} \\cos\\left(\\frac{1}{2} \\, \\sqrt{-l^{2} + 4 \\, w_{0}^{2}} t\\right) + K_{1} \\sin\\left(\\frac{1}{2} \\, \\sqrt{-l^{2} + 4 \\, w_{0}^{2}} t\\right)\\right)} e^{\\left(-\\frac{1}{2} \\, l t\\right)}</script></html>"
      ],
      "text/latex": [
       "$$\\newcommand{\\Bold}[1]{\\mathbf{#1}}{\\left(K_{2} \\cos\\left(\\frac{1}{2} \\, \\sqrt{-l^{2} + 4 \\, w_{0}^{2}} t\\right) + K_{1} \\sin\\left(\\frac{1}{2} \\, \\sqrt{-l^{2} + 4 \\, w_{0}^{2}} t\\right)\\right)} e^{\\left(-\\frac{1}{2} \\, l t\\right)}$$"
      ],
      "text/plain": [
       "(_K2*cos(1/2*sqrt(-l^2 + 4*w0^2)*t) + _K1*sin(1/2*sqrt(-l^2 + 4*w0^2)*t))*e^(-1/2*l*t)"
      ]
     },
     "metadata": {},
     "output_type": "display_data"
    }
   ],
   "source": [
    "#e\n",
    "forget()\n",
    "assume(l^2 < 4*w0^2)\n",
    "ans4 = desolve(eqd, [x, t])\n",
    "show(ans4)"
   ]
  },
  {
   "cell_type": "code",
   "execution_count": 33,
   "metadata": {},
   "outputs": [
    {
     "data": {
      "text/html": [
       "<html><script type=\"math/tex; mode=display\">\\newcommand{\\Bold}[1]{\\mathbf{#1}}{\\left(15 \\, t + 1\\right)} e^{\\left(-10 \\, t\\right)}</script></html>"
      ],
      "text/latex": [
       "$$\\newcommand{\\Bold}[1]{\\mathbf{#1}}{\\left(15 \\, t + 1\\right)} e^{\\left(-10 \\, t\\right)}$$"
      ],
      "text/plain": [
       "(15*t + 1)*e^(-10*t)"
      ]
     },
     "metadata": {},
     "output_type": "display_data"
    },
    {
     "data": {
      "image/png": "[encoded data removed]",
      "text/plain": [
       "Graphics object consisting of 1 graphics primitive"
      ]
     },
     "execution_count": 33,
     "metadata": {},
     "output_type": "execute_result"
    }
   ],
   "source": [
    "#f\n",
    "eqd4 = diff(x, t, 2) + 5*diff(x, t) + 100*x == 0\n",
    "ans4 = desolve(eqd4, [x, t], [0, 1, 5])\n",
    "show(ans3)\n",
    "sol(t, l, w0, x0, v0) = ans4\n",
    "plot(sol(t, 25, 10, 1, 5), t, -5 , 5, ymin= -10, ymax = 10)"
   ]
  },
  {
   "cell_type": "code",
   "execution_count": null,
   "metadata": {},
   "outputs": [],
   "source": []
  }
 ],
 "metadata": {
  "kernelspec": {
   "display_name": "SageMath 9.3",
   "language": "sage",
   "name": "sagemath"
  },
  "language_info": {
   "codemirror_mode": {
    "name": "ipython",
    "version": 3
   },
   "file_extension": ".py",
   "mimetype": "text/x-python",
   "name": "python",
   "nbconvert_exporter": "python",
   "pygments_lexer": "ipython3",
   "version": "3.7.10"
  }
 },
 "nbformat": 4,
 "nbformat_minor": 4
}
