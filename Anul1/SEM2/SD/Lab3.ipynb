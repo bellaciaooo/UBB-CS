{
 "cells": [
  {
   "cell_type": "code",
   "execution_count": 3,
   "metadata": {},
   "outputs": [
    {
     "data": {
      "text/html": [
       "<html><script type=\"math/tex; mode=display\">\\newcommand{\\Bold}[1]{\\mathbf{#1}}\\left[x\\left(t\\right) = \\frac{1}{2} \\, {\\left(x\\left(0\\right) + 2 \\, y\\left(0\\right)\\right)} e^{\\left(3 \\, t\\right)} + \\frac{1}{2} \\, {\\left(x\\left(0\\right) - 2 \\, y\\left(0\\right)\\right)} e^{\\left(-t\\right)}, y\\left(t\\right) = \\frac{1}{4} \\, {\\left(x\\left(0\\right) + 2 \\, y\\left(0\\right)\\right)} e^{\\left(3 \\, t\\right)} - \\frac{1}{4} \\, {\\left(x\\left(0\\right) - 2 \\, y\\left(0\\right)\\right)} e^{\\left(-t\\right)}\\right]</script></html>"
      ],
      "text/latex": [
       "$$\\newcommand{\\Bold}[1]{\\mathbf{#1}}\\left[x\\left(t\\right) = \\frac{1}{2} \\, {\\left(x\\left(0\\right) + 2 \\, y\\left(0\\right)\\right)} e^{\\left(3 \\, t\\right)} + \\frac{1}{2} \\, {\\left(x\\left(0\\right) - 2 \\, y\\left(0\\right)\\right)} e^{\\left(-t\\right)}, y\\left(t\\right) = \\frac{1}{4} \\, {\\left(x\\left(0\\right) + 2 \\, y\\left(0\\right)\\right)} e^{\\left(3 \\, t\\right)} - \\frac{1}{4} \\, {\\left(x\\left(0\\right) - 2 \\, y\\left(0\\right)\\right)} e^{\\left(-t\\right)}\\right]$$"
      ],
      "text/plain": [
       "[x(t) == 1/2*(x(0) + 2*y(0))*e^(3*t) + 1/2*(x(0) - 2*y(0))*e^(-t),\n",
       " y(t) == 1/4*(x(0) + 2*y(0))*e^(3*t) - 1/4*(x(0) - 2*y(0))*e^(-t)]"
      ]
     },
     "metadata": {},
     "output_type": "display_data"
    }
   ],
   "source": [
    "#exercitiul 1: Determinati solutiile generale ale urmatoarelor sisteme:\n",
    "#A\n",
    "t = var('t')\n",
    "x = function('x')(t)\n",
    "y = function('y')(t)\n",
    "deq1 = diff(x,t)==x+4*y\n",
    "deq2 = diff(y,t)==x+y\n",
    "syst = [deq1,deq2]\n",
    "sol_syst = desolve_system(syst,[x,y])\n",
    "show(sol_syst)"
   ]
  },
  {
   "cell_type": "code",
   "execution_count": 4,
   "metadata": {},
   "outputs": [
    {
     "data": {
      "text/html": [
       "<html><script type=\"math/tex; mode=display\">\\newcommand{\\Bold}[1]{\\mathbf{#1}}\\left[x\\left(t\\right) = {\\left(\\cos\\left(t\\right) x\\left(0\\right) - \\sin\\left(t\\right) y\\left(0\\right)\\right)} e^{\\left(2 \\, t\\right)}, y\\left(t\\right) = {\\left(\\sin\\left(t\\right) x\\left(0\\right) + \\cos\\left(t\\right) y\\left(0\\right)\\right)} e^{\\left(2 \\, t\\right)}\\right]</script></html>"
      ],
      "text/latex": [
       "$$\\newcommand{\\Bold}[1]{\\mathbf{#1}}\\left[x\\left(t\\right) = {\\left(\\cos\\left(t\\right) x\\left(0\\right) - \\sin\\left(t\\right) y\\left(0\\right)\\right)} e^{\\left(2 \\, t\\right)}, y\\left(t\\right) = {\\left(\\sin\\left(t\\right) x\\left(0\\right) + \\cos\\left(t\\right) y\\left(0\\right)\\right)} e^{\\left(2 \\, t\\right)}\\right]$$"
      ],
      "text/plain": [
       "[x(t) == (cos(t)*x(0) - sin(t)*y(0))*e^(2*t),\n",
       " y(t) == (sin(t)*x(0) + cos(t)*y(0))*e^(2*t)]"
      ]
     },
     "metadata": {},
     "output_type": "display_data"
    }
   ],
   "source": [
    "#B\n",
    "t = var('t')\n",
    "x = function('x')(t)\n",
    "y = function('y')(t)\n",
    "deq1 = diff(x,t)==2*x-y\n",
    "deq2 = diff(y,t)==x+2*y\n",
    "syst = [deq1,deq2]\n",
    "sol_syst = desolve_system(syst,[x,y])\n",
    "show(sol_syst)"
   ]
  },
  {
   "cell_type": "code",
   "execution_count": 5,
   "metadata": {},
   "outputs": [
    {
     "data": {
      "text/html": [
       "<html><script type=\"math/tex; mode=display\">\\newcommand{\\Bold}[1]{\\mathbf{#1}}\\left[x\\left(t\\right) = t e^{t} x\\left(0\\right) - t e^{t} z\\left(0\\right) - {\\left(x\\left(0\\right) + y\\left(0\\right) - 2 \\, z\\left(0\\right)\\right)} e^{\\left(2 \\, t\\right)} + {\\left(2 \\, x\\left(0\\right) + y\\left(0\\right) - 2 \\, z\\left(0\\right)\\right)} e^{t}, y\\left(t\\right) = t e^{t} x\\left(0\\right) - t e^{t} z\\left(0\\right) + e^{t} y\\left(0\\right), z\\left(t\\right) = t e^{t} x\\left(0\\right) - t e^{t} z\\left(0\\right) - {\\left(x\\left(0\\right) + y\\left(0\\right) - 2 \\, z\\left(0\\right)\\right)} e^{\\left(2 \\, t\\right)} + {\\left(x\\left(0\\right) + y\\left(0\\right) - z\\left(0\\right)\\right)} e^{t}\\right]</script></html>"
      ],
      "text/latex": [
       "$$\\newcommand{\\Bold}[1]{\\mathbf{#1}}\\left[x\\left(t\\right) = t e^{t} x\\left(0\\right) - t e^{t} z\\left(0\\right) - {\\left(x\\left(0\\right) + y\\left(0\\right) - 2 \\, z\\left(0\\right)\\right)} e^{\\left(2 \\, t\\right)} + {\\left(2 \\, x\\left(0\\right) + y\\left(0\\right) - 2 \\, z\\left(0\\right)\\right)} e^{t}, y\\left(t\\right) = t e^{t} x\\left(0\\right) - t e^{t} z\\left(0\\right) + e^{t} y\\left(0\\right), z\\left(t\\right) = t e^{t} x\\left(0\\right) - t e^{t} z\\left(0\\right) - {\\left(x\\left(0\\right) + y\\left(0\\right) - 2 \\, z\\left(0\\right)\\right)} e^{\\left(2 \\, t\\right)} + {\\left(x\\left(0\\right) + y\\left(0\\right) - z\\left(0\\right)\\right)} e^{t}\\right]$$"
      ],
      "text/plain": [
       "[x(t) == t*e^t*x(0) - t*e^t*z(0) - (x(0) + y(0) - 2*z(0))*e^(2*t) + (2*x(0) + y(0) - 2*z(0))*e^t,\n",
       " y(t) == t*e^t*x(0) - t*e^t*z(0) + e^t*y(0),\n",
       " z(t) == t*e^t*x(0) - t*e^t*z(0) - (x(0) + y(0) - 2*z(0))*e^(2*t) + (x(0) + y(0) - z(0))*e^t]"
      ]
     },
     "metadata": {},
     "output_type": "display_data"
    }
   ],
   "source": [
    "#C\n",
    "t = var('t')\n",
    "x = function('x')(t)\n",
    "y = function('y')(t)\n",
    "z = function('z')(t)\n",
    "deq1 = diff(x,t)==x-y+z\n",
    "deq2 = diff(y,t)==x+y-z\n",
    "deq3 = diff(z,t)==-y+2*z\n",
    "syst = [deq1,deq2,deq3]\n",
    "sol_syst = desolve_system(syst,[x,y,z])\n",
    "show(sol_syst)"
   ]
  },
  {
   "cell_type": "code",
   "execution_count": 6,
   "metadata": {},
   "outputs": [
    {
     "data": {
      "text/html": [
       "<html><script type=\"math/tex; mode=display\">\\newcommand{\\Bold}[1]{\\mathbf{#1}}\\left[x\\left(t\\right) = \\frac{1}{3} \\, {\\left(6 \\, x\\left(0\\right) + 3 \\, y\\left(0\\right) + 4\\right)} e^{\\left(2 \\, t\\right)} - t e^{\\left(-t\\right)} - \\frac{1}{3} \\, {\\left(3 \\, x\\left(0\\right) + 3 \\, y\\left(0\\right) - 2\\right)} e^{\\left(-t\\right)} - 2, y\\left(t\\right) = -\\frac{1}{3} \\, {\\left(6 \\, x\\left(0\\right) + 3 \\, y\\left(0\\right) + 4\\right)} e^{\\left(2 \\, t\\right)} + 2 \\, t e^{\\left(-t\\right)} + \\frac{1}{3} \\, {\\left(6 \\, x\\left(0\\right) + 6 \\, y\\left(0\\right) - 5\\right)} e^{\\left(-t\\right)} + 3\\right]</script></html>"
      ],
      "text/latex": [
       "$$\\newcommand{\\Bold}[1]{\\mathbf{#1}}\\left[x\\left(t\\right) = \\frac{1}{3} \\, {\\left(6 \\, x\\left(0\\right) + 3 \\, y\\left(0\\right) + 4\\right)} e^{\\left(2 \\, t\\right)} - t e^{\\left(-t\\right)} - \\frac{1}{3} \\, {\\left(3 \\, x\\left(0\\right) + 3 \\, y\\left(0\\right) - 2\\right)} e^{\\left(-t\\right)} - 2, y\\left(t\\right) = -\\frac{1}{3} \\, {\\left(6 \\, x\\left(0\\right) + 3 \\, y\\left(0\\right) + 4\\right)} e^{\\left(2 \\, t\\right)} + 2 \\, t e^{\\left(-t\\right)} + \\frac{1}{3} \\, {\\left(6 \\, x\\left(0\\right) + 6 \\, y\\left(0\\right) - 5\\right)} e^{\\left(-t\\right)} + 3\\right]$$"
      ],
      "text/plain": [
       "[x(t) == 1/3*(6*x(0) + 3*y(0) + 4)*e^(2*t) - t*e^(-t) - 1/3*(3*x(0) + 3*y(0) - 2)*e^(-t) - 2,\n",
       " y(t) == -1/3*(6*x(0) + 3*y(0) + 4)*e^(2*t) + 2*t*e^(-t) + 1/3*(6*x(0) + 6*y(0) - 5)*e^(-t) + 3]"
      ]
     },
     "metadata": {},
     "output_type": "display_data"
    }
   ],
   "source": [
    "#D\n",
    "t = var('t')\n",
    "x = function('x')(t)\n",
    "y = function('y')(t)\n",
    "deq1 = diff(x,t)==5*x+3*y+1\n",
    "deq2 = diff(y,t)==(-6)*x-4*y+exp(-t)\n",
    "syst = [deq1,deq2]\n",
    "sol_syst = desolve_system(syst,[x,y])\n",
    "show(sol_syst)"
   ]
  },
  {
   "cell_type": "code",
   "execution_count": 7,
   "metadata": {},
   "outputs": [
    {
     "data": {
      "text/html": [
       "<html><script type=\"math/tex; mode=display\">\\newcommand{\\Bold}[1]{\\mathbf{#1}}\\left[x\\left(t\\right) = \\frac{3}{40} \\, {\\left(10 \\, x\\left(0\\right) + 10 \\, y\\left(0\\right) + 9\\right)} e^{\\left(2 \\, t\\right)} + \\frac{1}{40} \\, {\\left(10 \\, x\\left(0\\right) - 30 \\, y\\left(0\\right) - 19\\right)} e^{\\left(-2 \\, t\\right)} - \\frac{3}{2} \\, t - \\frac{1}{5} \\, \\cos\\left(t\\right) + \\frac{1}{5} \\, \\sin\\left(t\\right), y\\left(t\\right) = \\frac{1}{40} \\, {\\left(10 \\, x\\left(0\\right) + 10 \\, y\\left(0\\right) + 9\\right)} e^{\\left(2 \\, t\\right)} - \\frac{1}{40} \\, {\\left(10 \\, x\\left(0\\right) - 30 \\, y\\left(0\\right) - 19\\right)} e^{\\left(-2 \\, t\\right)} + \\frac{1}{2} \\, t - \\frac{1}{5} \\, \\cos\\left(t\\right) - \\frac{1}{2}\\right]</script></html>"
      ],
      "text/latex": [
       "$$\\newcommand{\\Bold}[1]{\\mathbf{#1}}\\left[x\\left(t\\right) = \\frac{3}{40} \\, {\\left(10 \\, x\\left(0\\right) + 10 \\, y\\left(0\\right) + 9\\right)} e^{\\left(2 \\, t\\right)} + \\frac{1}{40} \\, {\\left(10 \\, x\\left(0\\right) - 30 \\, y\\left(0\\right) - 19\\right)} e^{\\left(-2 \\, t\\right)} - \\frac{3}{2} \\, t - \\frac{1}{5} \\, \\cos\\left(t\\right) + \\frac{1}{5} \\, \\sin\\left(t\\right), y\\left(t\\right) = \\frac{1}{40} \\, {\\left(10 \\, x\\left(0\\right) + 10 \\, y\\left(0\\right) + 9\\right)} e^{\\left(2 \\, t\\right)} - \\frac{1}{40} \\, {\\left(10 \\, x\\left(0\\right) - 30 \\, y\\left(0\\right) - 19\\right)} e^{\\left(-2 \\, t\\right)} + \\frac{1}{2} \\, t - \\frac{1}{5} \\, \\cos\\left(t\\right) - \\frac{1}{2}\\right]$$"
      ],
      "text/plain": [
       "[x(t) == 3/40*(10*x(0) + 10*y(0) + 9)*e^(2*t) + 1/40*(10*x(0) - 30*y(0) - 19)*e^(-2*t) - 3/2*t - 1/5*cos(t) + 1/5*sin(t),\n",
       " y(t) == 1/40*(10*x(0) + 10*y(0) + 9)*e^(2*t) - 1/40*(10*x(0) - 30*y(0) - 19)*e^(-2*t) + 1/2*t - 1/5*cos(t) - 1/2]"
      ]
     },
     "metadata": {},
     "output_type": "display_data"
    }
   ],
   "source": [
    "#E\n",
    "t = var('t')\n",
    "x = function('x')(t)\n",
    "y = function('y')(t)\n",
    "deq1 = diff(x,t)==x+3*y+cos(t)\n",
    "deq2 = diff(y,t)==x-y+2*t\n",
    "syst = [deq1,deq2]\n",
    "sol_syst = desolve_system(syst,[x,y])\n",
    "show(sol_syst)"
   ]
  },
  {
   "cell_type": "code",
   "execution_count": 8,
   "metadata": {},
   "outputs": [
    {
     "data": {
      "text/html": [
       "<html><script type=\"math/tex; mode=display\">\\newcommand{\\Bold}[1]{\\mathbf{#1}}\\left[x\\left(t\\right) = \\frac{1}{3} \\, \\sqrt{3} {\\left(2 \\, x\\left(0\\right) - y\\left(0\\right) - 2 \\, z\\left(0\\right)\\right)} \\sinh\\left(\\sqrt{3} t\\right) + t e^{\\left(-t\\right)} + {\\left(x\\left(0\\right) + y\\left(0\\right)\\right)} e^{\\left(-t\\right)} - \\cosh\\left(\\sqrt{3} t\\right) y\\left(0\\right), y\\left(t\\right) = -\\frac{1}{3} \\, \\sqrt{3} {\\left(2 \\, x\\left(0\\right) - y\\left(0\\right) - 2 \\, z\\left(0\\right)\\right)} \\sinh\\left(\\sqrt{3} t\\right) + \\cosh\\left(\\sqrt{3} t\\right) y\\left(0\\right), z\\left(t\\right) = \\sqrt{3} {\\left(x\\left(0\\right) - z\\left(0\\right)\\right)} \\sinh\\left(\\sqrt{3} t\\right) - {\\left(x\\left(0\\right) + y\\left(0\\right) - z\\left(0\\right)\\right)} \\cosh\\left(\\sqrt{3} t\\right) + t e^{\\left(-t\\right)} + {\\left(x\\left(0\\right) + y\\left(0\\right)\\right)} e^{\\left(-t\\right)}\\right]</script></html>"
      ],
      "text/latex": [
       "$$\\newcommand{\\Bold}[1]{\\mathbf{#1}}\\left[x\\left(t\\right) = \\frac{1}{3} \\, \\sqrt{3} {\\left(2 \\, x\\left(0\\right) - y\\left(0\\right) - 2 \\, z\\left(0\\right)\\right)} \\sinh\\left(\\sqrt{3} t\\right) + t e^{\\left(-t\\right)} + {\\left(x\\left(0\\right) + y\\left(0\\right)\\right)} e^{\\left(-t\\right)} - \\cosh\\left(\\sqrt{3} t\\right) y\\left(0\\right), y\\left(t\\right) = -\\frac{1}{3} \\, \\sqrt{3} {\\left(2 \\, x\\left(0\\right) - y\\left(0\\right) - 2 \\, z\\left(0\\right)\\right)} \\sinh\\left(\\sqrt{3} t\\right) + \\cosh\\left(\\sqrt{3} t\\right) y\\left(0\\right), z\\left(t\\right) = \\sqrt{3} {\\left(x\\left(0\\right) - z\\left(0\\right)\\right)} \\sinh\\left(\\sqrt{3} t\\right) - {\\left(x\\left(0\\right) + y\\left(0\\right) - z\\left(0\\right)\\right)} \\cosh\\left(\\sqrt{3} t\\right) + t e^{\\left(-t\\right)} + {\\left(x\\left(0\\right) + y\\left(0\\right)\\right)} e^{\\left(-t\\right)}\\right]$$"
      ],
      "text/plain": [
       "[x(t) == 1/3*sqrt(3)*(2*x(0) - y(0) - 2*z(0))*sinh(sqrt(3)*t) + t*e^(-t) + (x(0) + y(0))*e^(-t) - cosh(sqrt(3)*t)*y(0),\n",
       " y(t) == -1/3*sqrt(3)*(2*x(0) - y(0) - 2*z(0))*sinh(sqrt(3)*t) + cosh(sqrt(3)*t)*y(0),\n",
       " z(t) == sqrt(3)*(x(0) - z(0))*sinh(sqrt(3)*t) - (x(0) + y(0) - z(0))*cosh(sqrt(3)*t) + t*e^(-t) + (x(0) + y(0))*e^(-t)]"
      ]
     },
     "metadata": {},
     "output_type": "display_data"
    }
   ],
   "source": [
    "#F\n",
    "t = var('t')\n",
    "x = function('x')(t)\n",
    "y = function('y')(t)\n",
    "z = function('z')(t)\n",
    "deq1 = diff(x,t)==x-2*y-2*z+exp(-t)\n",
    "deq2 = diff(y,t)==(-2)*x+y+2*z\n",
    "deq3 = diff(z,t)==2*x-y-3*z+exp(-t)\n",
    "syst = [deq1,deq2,deq3]\n",
    "sol_syst = desolve_system(syst,[x,y,z])\n",
    "show(sol_syst)"
   ]
  },
  {
   "cell_type": "code",
   "execution_count": 32,
   "metadata": {},
   "outputs": [
    {
     "data": {
      "text/html": [
       "<html><script type=\"math/tex; mode=display\">\\newcommand{\\Bold}[1]{\\mathbf{#1}}\\left[x\\left(t\\right) = \\frac{5}{2} \\, e^{\\left(3 \\, t\\right)} - \\frac{3}{2} \\, e^{\\left(-t\\right)}, y\\left(t\\right) = \\frac{5}{4} \\, e^{\\left(3 \\, t\\right)} + \\frac{3}{4} \\, e^{\\left(-t\\right)}\\right]</script></html>"
      ],
      "text/latex": [
       "$$\\newcommand{\\Bold}[1]{\\mathbf{#1}}\\left[x\\left(t\\right) = \\frac{5}{2} \\, e^{\\left(3 \\, t\\right)} - \\frac{3}{2} \\, e^{\\left(-t\\right)}, y\\left(t\\right) = \\frac{5}{4} \\, e^{\\left(3 \\, t\\right)} + \\frac{3}{4} \\, e^{\\left(-t\\right)}\\right]$$"
      ],
      "text/plain": [
       "[x(t) == 5/2*e^(3*t) - 3/2*e^(-t), y(t) == 5/4*e^(3*t) + 3/4*e^(-t)]"
      ]
     },
     "metadata": {},
     "output_type": "display_data"
    }
   ],
   "source": [
    "#exercitiul 2: Determinati si reprezentati grafic solutiile urmatoarelor probleme Cauchy:\n",
    "#A\n",
    "t = var('t')\n",
    "x = function('x')(t)\n",
    "y = function('y')(t)\n",
    "deq1 = diff(x,t)==x+4*y\n",
    "deq2 = diff(y,t)==x+y\n",
    "syst = [deq1,deq2]\n",
    "C1,C2 = var('C1,C2')\n",
    "sol_syst = desolve_system(syst,[x,y],[0,1,2])\n",
    "show(sol_syst)"
   ]
  },
  {
   "cell_type": "code",
   "execution_count": 33,
   "metadata": {},
   "outputs": [
    {
     "data": {
      "image/png": "[encoded data removed]",
      "text/plain": [
       "Graphics object consisting of 2 graphics primitives"
      ]
     },
     "metadata": {},
     "output_type": "display_data"
    }
   ],
   "source": [
    "sol = desolve_system(syst,[x,y],[0,C1,C2])\n",
    "sol_x(t,C1,C2) = sol[0].rhs()\n",
    "sol_y(t,C1,C2) = sol[1].rhs()\n",
    "g1 = plot(sol_x(t,1,2),t,-10,10,color = 'red')\n",
    "g2 = plot(sol_y(t,1,2),t,-10,10,color = 'blue')\n",
    "show(g1+g2)"
   ]
  },
  {
   "cell_type": "code",
   "execution_count": 35,
   "metadata": {},
   "outputs": [
    {
     "data": {
      "text/html": [
       "<html><script type=\"math/tex; mode=display\">\\newcommand{\\Bold}[1]{\\mathbf{#1}}\\left[x\\left(t\\right) = -\\frac{1}{13} \\, {\\left(10 \\, \\sqrt{17} \\sinh\\left(\\frac{1}{2} \\, \\sqrt{17} t\\right) - 33 \\, \\cosh\\left(\\frac{1}{2} \\, \\sqrt{17} t\\right)\\right)} e^{\\left(\\frac{5}{2} \\, t\\right)} - 2 \\, t - \\frac{1}{26} \\, \\cos\\left(t\\right) + \\frac{5}{26} \\, \\sin\\left(t\\right) - \\frac{5}{2}, y\\left(t\\right) = -\\frac{1}{26} \\, {\\left(3 \\, \\sqrt{17} \\sinh\\left(\\frac{1}{2} \\, \\sqrt{17} t\\right) - 71 \\, \\cosh\\left(\\frac{1}{2} \\, \\sqrt{17} t\\right)\\right)} e^{\\left(\\frac{5}{2} \\, t\\right)} - t - \\frac{3}{13} \\, \\cos\\left(t\\right) + \\frac{2}{13} \\, \\sin\\left(t\\right) - \\frac{3}{2}\\right]</script></html>"
      ],
      "text/latex": [
       "$$\\newcommand{\\Bold}[1]{\\mathbf{#1}}\\left[x\\left(t\\right) = -\\frac{1}{13} \\, {\\left(10 \\, \\sqrt{17} \\sinh\\left(\\frac{1}{2} \\, \\sqrt{17} t\\right) - 33 \\, \\cosh\\left(\\frac{1}{2} \\, \\sqrt{17} t\\right)\\right)} e^{\\left(\\frac{5}{2} \\, t\\right)} - 2 \\, t - \\frac{1}{26} \\, \\cos\\left(t\\right) + \\frac{5}{26} \\, \\sin\\left(t\\right) - \\frac{5}{2}, y\\left(t\\right) = -\\frac{1}{26} \\, {\\left(3 \\, \\sqrt{17} \\sinh\\left(\\frac{1}{2} \\, \\sqrt{17} t\\right) - 71 \\, \\cosh\\left(\\frac{1}{2} \\, \\sqrt{17} t\\right)\\right)} e^{\\left(\\frac{5}{2} \\, t\\right)} - t - \\frac{3}{13} \\, \\cos\\left(t\\right) + \\frac{2}{13} \\, \\sin\\left(t\\right) - \\frac{3}{2}\\right]$$"
      ],
      "text/plain": [
       "[x(t) == -1/13*(10*sqrt(17)*sinh(1/2*sqrt(17)*t) - 33*cosh(1/2*sqrt(17)*t))*e^(5/2*t) - 2*t - 1/26*cos(t) + 5/26*sin(t) - 5/2,\n",
       " y(t) == -1/26*(3*sqrt(17)*sinh(1/2*sqrt(17)*t) - 71*cosh(1/2*sqrt(17)*t))*e^(5/2*t) - t - 3/13*cos(t) + 2/13*sin(t) - 3/2]"
      ]
     },
     "metadata": {},
     "output_type": "display_data"
    }
   ],
   "source": [
    "#B\n",
    "t = var('t')\n",
    "x = function('x')(t)\n",
    "y = function('y')(t)\n",
    "deq1 = diff(x,t)==x-y+t-1\n",
    "deq2 = diff(y,t)==(-2)*x+4*y+cos(t)\n",
    "syst = [deq1,deq2]\n",
    "C1,C2 = var('C1,C2')\n",
    "sol_syst = desolve_system(syst,[x,y],[0,0,1])\n",
    "show(sol_syst)"
   ]
  },
  {
   "cell_type": "code",
   "execution_count": 36,
   "metadata": {},
   "outputs": [
    {
     "data": {
      "image/png": "[encoded data removed]",
      "text/plain": [
       "Graphics object consisting of 2 graphics primitives"
      ]
     },
     "metadata": {},
     "output_type": "display_data"
    }
   ],
   "source": [
    "sol = desolve_system(syst,[x,y],[0,C1,C2])\n",
    "sol_x(t,C1,C2) = sol[0].rhs()\n",
    "sol_y(t,C1,C2) = sol[1].rhs()\n",
    "g1 = plot(sol_x(t,0,1),t,-10,10,color = 'red')\n",
    "g2 = plot(sol_y(t,0,1),t,-10,10,color = 'blue')\n",
    "show(g1+g2)"
   ]
  },
  {
   "cell_type": "code",
   "execution_count": 37,
   "metadata": {},
   "outputs": [
    {
     "data": {
      "text/html": [
       "<html><script type=\"math/tex; mode=display\">\\newcommand{\\Bold}[1]{\\mathbf{#1}}\\left[x\\left(t\\right) = -\\frac{1}{20} \\, {\\left(3 \\, \\cos\\left(2 \\, t\\right) - 29 \\, \\sin\\left(2 \\, t\\right)\\right)} e^{t} - \\frac{1}{4} \\, e^{\\left(-t\\right)} + \\frac{2}{5}, y\\left(t\\right) = \\frac{1}{20} \\, {\\left(29 \\, \\cos\\left(2 \\, t\\right) + 3 \\, \\sin\\left(2 \\, t\\right)\\right)} e^{t} - \\frac{1}{4} \\, e^{\\left(-t\\right)} - \\frac{1}{5}\\right]</script></html>"
      ],
      "text/latex": [
       "$$\\newcommand{\\Bold}[1]{\\mathbf{#1}}\\left[x\\left(t\\right) = -\\frac{1}{20} \\, {\\left(3 \\, \\cos\\left(2 \\, t\\right) - 29 \\, \\sin\\left(2 \\, t\\right)\\right)} e^{t} - \\frac{1}{4} \\, e^{\\left(-t\\right)} + \\frac{2}{5}, y\\left(t\\right) = \\frac{1}{20} \\, {\\left(29 \\, \\cos\\left(2 \\, t\\right) + 3 \\, \\sin\\left(2 \\, t\\right)\\right)} e^{t} - \\frac{1}{4} \\, e^{\\left(-t\\right)} - \\frac{1}{5}\\right]$$"
      ],
      "text/plain": [
       "[x(t) == -1/20*(3*cos(2*t) - 29*sin(2*t))*e^t - 1/4*e^(-t) + 2/5,\n",
       " y(t) == 1/20*(29*cos(2*t) + 3*sin(2*t))*e^t - 1/4*e^(-t) - 1/5]"
      ]
     },
     "metadata": {},
     "output_type": "display_data"
    }
   ],
   "source": [
    "#C\n",
    "t = var('t')\n",
    "x = function('x')(t)\n",
    "y = function('y')(t)\n",
    "deq1 = diff(x,t)==x+2*y+exp(-t)\n",
    "deq2 = diff(y,t)==(-2)*x+y+1\n",
    "syst = [deq1,deq2]\n",
    "C1,C2 = var('C1,C2')\n",
    "sol_syst = desolve_system(syst,[x,y],[0,0,1])\n",
    "show(sol_syst)"
   ]
  },
  {
   "cell_type": "code",
   "execution_count": 31,
   "metadata": {},
   "outputs": [
    {
     "data": {
      "image/png": "[encoded data removed]",
      "text/plain": [
       "Graphics object consisting of 2 graphics primitives"
      ]
     },
     "metadata": {},
     "output_type": "display_data"
    }
   ],
   "source": [
    "sol = desolve_system(syst,[x,y],[0,C1,C2])\n",
    "sol_x(t,C1,C2) = sol[0].rhs()\n",
    "sol_y(t,C1,C2) = sol[1].rhs()\n",
    "g1 = plot(sol_x(t,0,1),t,-10,10,color = 'red')\n",
    "g2 = plot(sol_y(t,0,1),t,-10,10,color = 'blue')\n",
    "show(g1+g2)"
   ]
  },
  {
   "cell_type": "code",
   "execution_count": 25,
   "metadata": {},
   "outputs": [
    {
     "data": {
      "text/html": [
       "<html><script type=\"math/tex; mode=display\">\\newcommand{\\Bold}[1]{\\mathbf{#1}}\\left[x\\left(t\\right) = 27 \\, t^{2} - 63 \\, t + 2 \\, e^{\\left(-t\\right)} + 3 \\, e^{t} + 45, y\\left(t\\right) = -18 \\, t^{2} + 24 \\, t + e^{\\left(3 \\, t\\right)} - e^{\\left(-t\\right)} + 2 \\, e^{t} - 32, z\\left(t\\right) = 18 \\, t^{2} - 27 \\, t - e^{\\left(3 \\, t\\right)} + e^{\\left(-t\\right)} + 26\\right]</script></html>"
      ],
      "text/latex": [
       "$$\\newcommand{\\Bold}[1]{\\mathbf{#1}}\\left[x\\left(t\\right) = 27 \\, t^{2} - 63 \\, t + 2 \\, e^{\\left(-t\\right)} + 3 \\, e^{t} + 45, y\\left(t\\right) = -18 \\, t^{2} + 24 \\, t + e^{\\left(3 \\, t\\right)} - e^{\\left(-t\\right)} + 2 \\, e^{t} - 32, z\\left(t\\right) = 18 \\, t^{2} - 27 \\, t - e^{\\left(3 \\, t\\right)} + e^{\\left(-t\\right)} + 26\\right]$$"
      ],
      "text/plain": [
       "[x(t) == 27*t^2 - 63*t + 2*e^(-t) + 3*e^t + 45,\n",
       " y(t) == -18*t^2 + 24*t + e^(3*t) - e^(-t) + 2*e^t - 32,\n",
       " z(t) == 18*t^2 - 27*t - e^(3*t) + e^(-t) + 26]"
      ]
     },
     "metadata": {},
     "output_type": "display_data"
    }
   ],
   "source": [
    "#D\n",
    "t = var('t')\n",
    "x = function('x')(t)\n",
    "y = function('y')(t)\n",
    "z = function('z')(t)\n",
    "deq1 = diff(x,t)==-x+3*y+3*z+27*t^2\n",
    "deq2 = diff(y,t)==2*x-2*y-5*z+3*t\n",
    "deq3 = diff(z,t)==(-2)*x+3*y+6*z+3\n",
    "syst = [deq1,deq2,deq3]\n",
    "C1,C2,C3 = var('C1,C2,C3')\n",
    "sol_syst = desolve_system(syst,[x,y,z],[0,50,-30,26])\n",
    "show(sol_syst)"
   ]
  },
  {
   "cell_type": "code",
   "execution_count": 28,
   "metadata": {},
   "outputs": [
    {
     "data": {
      "image/png": "[encoded data removed]",
      "text/plain": [
       "Graphics object consisting of 3 graphics primitives"
      ]
     },
     "metadata": {},
     "output_type": "display_data"
    }
   ],
   "source": [
    "sol = desolve_system(syst,[x,y,z],[0,C1,C2,C3])\n",
    "sol_x(t,C1,C2,C3) = sol[0].rhs()\n",
    "sol_y(t,C1,C2,C3) = sol[1].rhs()\n",
    "sol_z(t,C1,C2,C3) = sol[2].rhs() \n",
    "g1 = plot(sol_x(t,50,-30,26),t,-10,10,color = 'red')\n",
    "g2 = plot(sol_y(t,50,-30,26),t,-10,10,color = 'blue')\n",
    "g3 = plot(sol_z(t,50,-30,26),t,-10,10,color = 'green')\n",
    "show(g1+g2+g3)"
   ]
  },
  {
   "cell_type": "code",
   "execution_count": 38,
   "metadata": {},
   "outputs": [
    {
     "data": {
      "text/html": [
       "<html><script type=\"math/tex; mode=display\">\\newcommand{\\Bold}[1]{\\mathbf{#1}}\\left[x\\left(t\\right) = \\frac{1}{6} \\, {\\left(\\sqrt{2} \\sin\\left(\\sqrt{2} t\\right) + 16 \\, \\cos\\left(\\sqrt{2} t\\right)\\right)} e^{t} + \\frac{1}{3}, y\\left(t\\right) = -\\frac{1}{3} \\, {\\left(8 \\, \\sqrt{2} \\sin\\left(\\sqrt{2} t\\right) - \\cos\\left(\\sqrt{2} t\\right)\\right)} e^{t} - \\frac{1}{3}\\right]</script></html>"
      ],
      "text/latex": [
       "$$\\newcommand{\\Bold}[1]{\\mathbf{#1}}\\left[x\\left(t\\right) = \\frac{1}{6} \\, {\\left(\\sqrt{2} \\sin\\left(\\sqrt{2} t\\right) + 16 \\, \\cos\\left(\\sqrt{2} t\\right)\\right)} e^{t} + \\frac{1}{3}, y\\left(t\\right) = -\\frac{1}{3} \\, {\\left(8 \\, \\sqrt{2} \\sin\\left(\\sqrt{2} t\\right) - \\cos\\left(\\sqrt{2} t\\right)\\right)} e^{t} - \\frac{1}{3}\\right]$$"
      ],
      "text/plain": [
       "[x(t) == 1/6*(sqrt(2)*sin(sqrt(2)*t) + 16*cos(sqrt(2)*t))*e^t + 1/3,\n",
       " y(t) == -1/3*(8*sqrt(2)*sin(sqrt(2)*t) - cos(sqrt(2)*t))*e^t - 1/3]"
      ]
     },
     "metadata": {},
     "output_type": "display_data"
    }
   ],
   "source": [
    "#exercitiul 3:\n",
    "#A\n",
    "t = var('t')\n",
    "x = function('x')(t)\n",
    "y = function('y')(t)\n",
    "deq1 = diff(x,t)==x+y\n",
    "deq2 = diff(y,t)==(-2)*x+y+1\n",
    "syst = [deq1,deq2]\n",
    "C1,C2 = var('C1,C2')\n",
    "sol_syst = desolve_system(syst,[x,y],[0,3,0])\n",
    "show(sol_syst)"
   ]
  },
  {
   "cell_type": "code",
   "execution_count": 39,
   "metadata": {},
   "outputs": [
    {
     "data": {
      "text/html": [
       "<html><script type=\"math/tex; mode=display\">\\newcommand{\\Bold}[1]{\\mathbf{#1}}\\left[x\\left(t\\right) = \\frac{1}{3} \\, {\\left(5 \\, \\sqrt{2} \\sin\\left(\\sqrt{2} t\\right) - \\cos\\left(\\sqrt{2} t\\right)\\right)} e^{t} + \\frac{1}{3}, y\\left(t\\right) = \\frac{1}{3} \\, {\\left(\\sqrt{2} \\sin\\left(\\sqrt{2} t\\right) + 10 \\, \\cos\\left(\\sqrt{2} t\\right)\\right)} e^{t} - \\frac{1}{3}\\right]</script></html>"
      ],
      "text/latex": [
       "$$\\newcommand{\\Bold}[1]{\\mathbf{#1}}\\left[x\\left(t\\right) = \\frac{1}{3} \\, {\\left(5 \\, \\sqrt{2} \\sin\\left(\\sqrt{2} t\\right) - \\cos\\left(\\sqrt{2} t\\right)\\right)} e^{t} + \\frac{1}{3}, y\\left(t\\right) = \\frac{1}{3} \\, {\\left(\\sqrt{2} \\sin\\left(\\sqrt{2} t\\right) + 10 \\, \\cos\\left(\\sqrt{2} t\\right)\\right)} e^{t} - \\frac{1}{3}\\right]$$"
      ],
      "text/plain": [
       "[x(t) == 1/3*(5*sqrt(2)*sin(sqrt(2)*t) - cos(sqrt(2)*t))*e^t + 1/3,\n",
       " y(t) == 1/3*(sqrt(2)*sin(sqrt(2)*t) + 10*cos(sqrt(2)*t))*e^t - 1/3]"
      ]
     },
     "metadata": {},
     "output_type": "display_data"
    }
   ],
   "source": [
    "sol_syst = desolve_system(syst,[x,y],[0,0,3])\n",
    "show(sol_syst)"
   ]
  },
  {
   "cell_type": "code",
   "execution_count": 40,
   "metadata": {},
   "outputs": [
    {
     "data": {
      "text/html": [
       "<html><script type=\"math/tex; mode=display\">\\newcommand{\\Bold}[1]{\\mathbf{#1}}\\left[x\\left(t\\right) = \\frac{1}{6} \\, {\\left(\\sqrt{2} \\sin\\left(\\sqrt{2} t\\right) - 20 \\, \\cos\\left(\\sqrt{2} t\\right)\\right)} e^{t} + \\frac{1}{3}, y\\left(t\\right) = \\frac{1}{3} \\, {\\left(10 \\, \\sqrt{2} \\sin\\left(\\sqrt{2} t\\right) + \\cos\\left(\\sqrt{2} t\\right)\\right)} e^{t} - \\frac{1}{3}\\right]</script></html>"
      ],
      "text/latex": [
       "$$\\newcommand{\\Bold}[1]{\\mathbf{#1}}\\left[x\\left(t\\right) = \\frac{1}{6} \\, {\\left(\\sqrt{2} \\sin\\left(\\sqrt{2} t\\right) - 20 \\, \\cos\\left(\\sqrt{2} t\\right)\\right)} e^{t} + \\frac{1}{3}, y\\left(t\\right) = \\frac{1}{3} \\, {\\left(10 \\, \\sqrt{2} \\sin\\left(\\sqrt{2} t\\right) + \\cos\\left(\\sqrt{2} t\\right)\\right)} e^{t} - \\frac{1}{3}\\right]$$"
      ],
      "text/plain": [
       "[x(t) == 1/6*(sqrt(2)*sin(sqrt(2)*t) - 20*cos(sqrt(2)*t))*e^t + 1/3,\n",
       " y(t) == 1/3*(10*sqrt(2)*sin(sqrt(2)*t) + cos(sqrt(2)*t))*e^t - 1/3]"
      ]
     },
     "metadata": {},
     "output_type": "display_data"
    }
   ],
   "source": [
    "sol_syst = desolve_system(syst,[x,y],[0,-3,0])\n",
    "show(sol_syst)"
   ]
  },
  {
   "cell_type": "code",
   "execution_count": 41,
   "metadata": {},
   "outputs": [
    {
     "data": {
      "text/html": [
       "<html><script type=\"math/tex; mode=display\">\\newcommand{\\Bold}[1]{\\mathbf{#1}}\\left[x\\left(t\\right) = -\\frac{1}{3} \\, {\\left(4 \\, \\sqrt{2} \\sin\\left(\\sqrt{2} t\\right) + \\cos\\left(\\sqrt{2} t\\right)\\right)} e^{t} + \\frac{1}{3}, y\\left(t\\right) = \\frac{1}{3} \\, {\\left(\\sqrt{2} \\sin\\left(\\sqrt{2} t\\right) - 8 \\, \\cos\\left(\\sqrt{2} t\\right)\\right)} e^{t} - \\frac{1}{3}\\right]</script></html>"
      ],
      "text/latex": [
       "$$\\newcommand{\\Bold}[1]{\\mathbf{#1}}\\left[x\\left(t\\right) = -\\frac{1}{3} \\, {\\left(4 \\, \\sqrt{2} \\sin\\left(\\sqrt{2} t\\right) + \\cos\\left(\\sqrt{2} t\\right)\\right)} e^{t} + \\frac{1}{3}, y\\left(t\\right) = \\frac{1}{3} \\, {\\left(\\sqrt{2} \\sin\\left(\\sqrt{2} t\\right) - 8 \\, \\cos\\left(\\sqrt{2} t\\right)\\right)} e^{t} - \\frac{1}{3}\\right]$$"
      ],
      "text/plain": [
       "[x(t) == -1/3*(4*sqrt(2)*sin(sqrt(2)*t) + cos(sqrt(2)*t))*e^t + 1/3,\n",
       " y(t) == 1/3*(sqrt(2)*sin(sqrt(2)*t) - 8*cos(sqrt(2)*t))*e^t - 1/3]"
      ]
     },
     "metadata": {},
     "output_type": "display_data"
    }
   ],
   "source": [
    "sol_syst = desolve_system(syst,[x,y],[0,0,-3])\n",
    "show(sol_syst)"
   ]
  },
  {
   "cell_type": "code",
   "execution_count": null,
   "metadata": {},
   "outputs": [],
   "source": []
  }
 ],
 "metadata": {
  "kernelspec": {
   "display_name": "SageMath 9.3",
   "language": "sage",
   "name": "sagemath"
  },
  "language_info": {
   "codemirror_mode": {
    "name": "ipython",
    "version": 3
   },
   "file_extension": ".py",
   "mimetype": "text/x-python",
   "name": "python",
   "nbconvert_exporter": "python",
   "pygments_lexer": "ipython3",
   "version": "3.7.10"
  }
 },
 "nbformat": 4,
 "nbformat_minor": 4
}
