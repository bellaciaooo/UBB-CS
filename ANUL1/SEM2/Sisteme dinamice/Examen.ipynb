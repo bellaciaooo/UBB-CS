{
 "cells": [
  {
   "cell_type": "code",
   "execution_count": 1,
   "metadata": {},
   "outputs": [
    {
     "data": {
      "text/html": [
       "<html><script type=\"math/tex; mode=display\">\\newcommand{\\Bold}[1]{\\mathbf{#1}}\\left( t, r, x_{0} \\right) \\ {\\mapsto} \\ x_{0} e^{\\left(r t\\right)}</script></html>"
      ],
      "text/latex": [
       "$$\\newcommand{\\Bold}[1]{\\mathbf{#1}}\\left( t, r, x_{0} \\right) \\ {\\mapsto} \\ x_{0} e^{\\left(r t\\right)}$$"
      ],
      "text/plain": [
       "(t, r, x0) |--> x0*e^(r*t)"
      ]
     },
     "metadata": {},
     "output_type": "display_data"
    }
   ],
   "source": [
    "#Exercitiul 1\n",
    "#a)solutia modelului\n",
    "reset()\n",
    "t,r = var('t,r')\n",
    "x = function('x')(t)\n",
    "eqd = diff(x,t) == r*x;\n",
    "sol(t,r,x0) = desolve(eqd,[x,t],[0,x0])\n",
    "show(sol)"
   ]
  },
  {
   "cell_type": "code",
   "execution_count": null,
   "metadata": {},
   "outputs": [],
   "source": [
    "#b)determinati rata de crestere\n"
   ]
  },
  {
   "cell_type": "code",
   "execution_count": 5,
   "metadata": {},
   "outputs": [
    {
     "data": {
      "text/plain": [
       "[x(t) == -t*e^(-2*t)*x(0) - t*e^(-2*t)*y(0) + e^(-2*t)*x(0),\n",
       " y(t) == t*e^(-2*t)*x(0) + t*e^(-2*t)*y(0) + e^(-2*t)*y(0)]"
      ]
     },
     "execution_count": 5,
     "metadata": {},
     "output_type": "execute_result"
    }
   ],
   "source": [
    "#Exercitiul 2\n",
    "#a)solutia generala\n",
    "reset()\n",
    "t=var('t')\n",
    "x=function('x')(t)\n",
    "y=function('y')(t)\n",
    "\n",
    "eqd1= diff(x,t)==(-3)*x-y\n",
    "eqd2= diff(y,t)==x-y\n",
    "syst=[eqd1,eqd2]\n",
    "\n",
    "desolve_system(syst,[x,y])"
   ]
  },
  {
   "cell_type": "code",
   "execution_count": 6,
   "metadata": {},
   "outputs": [
    {
     "data": {
      "text/plain": [
       "[x(t) == -3*t*e^(-2*t) + e^(-2*t), y(t) == 3*t*e^(-2*t) + 2*e^(-2*t)]"
      ]
     },
     "execution_count": 6,
     "metadata": {},
     "output_type": "execute_result"
    }
   ],
   "source": [
    "#b)\n",
    "sol = desolve_system(syst,[x,y],[0,1,2])\n",
    "sol"
   ]
  },
  {
   "cell_type": "code",
   "execution_count": 7,
   "metadata": {},
   "outputs": [
    {
     "data": {
      "image/png": "[encoded data removed]",
      "text/plain": [
       "Graphics object consisting of 2 graphics primitives"
      ]
     },
     "metadata": {},
     "output_type": "display_data"
    }
   ],
   "source": [
    "sol_x(t)=sol[0].rhs()\n",
    "sol_y(t)=sol[1].rhs()\n",
    "\n",
    "g1=plot(sol_x(t,1,2),t,-1,1,color='red')\n",
    "g2=plot(sol_y(t,1,2),t,-1,1,color='blue')\n",
    "show(g1+g2)"
   ]
  },
  {
   "cell_type": "code",
   "execution_count": 29,
   "metadata": {},
   "outputs": [
    {
     "data": {
      "text/plain": [
       "[s == -3, s == 3, s == 0]"
      ]
     },
     "execution_count": 29,
     "metadata": {},
     "output_type": "execute_result"
    }
   ],
   "source": [
    "#Exercitiul 3\n",
    "#a)punctele de echilibru\n",
    "reset()\n",
    "t=var('t')\n",
    "x=function('x')(t)\n",
    "\n",
    "s=var('s')\n",
    "f=function('f')(s)\n",
    "f(s)=s^3-9*s\n",
    "\n",
    "eqp=solve(f(s)==0,s)\n",
    "eqp"
   ]
  },
  {
   "cell_type": "code",
   "execution_count": 30,
   "metadata": {},
   "outputs": [
    {
     "data": {
      "text/plain": [
       "-3"
      ]
     },
     "execution_count": 30,
     "metadata": {},
     "output_type": "execute_result"
    }
   ],
   "source": [
    "x1=eqp[0].rhs()\n",
    "x1"
   ]
  },
  {
   "cell_type": "code",
   "execution_count": 31,
   "metadata": {},
   "outputs": [
    {
     "data": {
      "text/plain": [
       "3"
      ]
     },
     "execution_count": 31,
     "metadata": {},
     "output_type": "execute_result"
    }
   ],
   "source": [
    "x2=eqp[1].rhs()\n",
    "x2"
   ]
  },
  {
   "cell_type": "code",
   "execution_count": 32,
   "metadata": {},
   "outputs": [
    {
     "data": {
      "text/plain": [
       "0"
      ]
     },
     "execution_count": 32,
     "metadata": {},
     "output_type": "execute_result"
    }
   ],
   "source": [
    "x3=eqp[2].rhs()\n",
    "x3"
   ]
  },
  {
   "cell_type": "code",
   "execution_count": 33,
   "metadata": {},
   "outputs": [
    {
     "data": {
      "text/plain": [
       "18"
      ]
     },
     "execution_count": 33,
     "metadata": {},
     "output_type": "execute_result"
    }
   ],
   "source": [
    "diff(f,s)(x1)"
   ]
  },
  {
   "cell_type": "code",
   "execution_count": 34,
   "metadata": {},
   "outputs": [
    {
     "data": {
      "text/plain": [
       "18"
      ]
     },
     "execution_count": 34,
     "metadata": {},
     "output_type": "execute_result"
    }
   ],
   "source": [
    "diff(f,s)(x2)"
   ]
  },
  {
   "cell_type": "code",
   "execution_count": 35,
   "metadata": {},
   "outputs": [
    {
     "data": {
      "text/plain": [
       "-9"
      ]
     },
     "execution_count": 35,
     "metadata": {},
     "output_type": "execute_result"
    }
   ],
   "source": [
    "diff(f,s)(x3)"
   ]
  },
  {
   "cell_type": "code",
   "execution_count": 36,
   "metadata": {},
   "outputs": [
    {
     "data": {
      "image/png": "[encoded data removed]",
      "text/plain": [
       "Graphics object consisting of 7 graphics primitives"
      ]
     },
     "metadata": {},
     "output_type": "display_data"
    }
   ],
   "source": [
    "#b)reprezentare grafica\n",
    "deq= diff(x,t)==f(x)\n",
    "g1=desolve_rk4(deq,x,[0,-4],step=0.1,end_points=[0,2],output='plot')\n",
    "g2=desolve_rk4(deq,x,[0,-3],step=0.1,end_points=[0,2],output='plot')\n",
    "g3=desolve_rk4(deq,x,[0,-2],step=0.1,end_points=[0,2],output='plot')\n",
    "g4=desolve_rk4(deq,x,[0,0],step=0.1,end_points=[0,2],output='plot')\n",
    "g5=desolve_rk4(deq,x,[0,1],step=0.1,end_points=[0,2],output='plot')\n",
    "g6=desolve_rk4(deq,x,[0,3],step=0.1,end_points=[0,2],output='plot')\n",
    "g7=desolve_rk4(deq,x,[0,4],step=0.1,end_points=[0,2],output='plot')\n",
    "show(g1+g2+g3+g4+g5+g6+g7)"
   ]
  },
  {
   "cell_type": "code",
   "execution_count": 38,
   "metadata": {},
   "outputs": [
    {
     "data": {
      "image/png": "[encoded data removed]",
      "text/plain": [
       "Graphics object consisting of 1 graphics primitive"
      ]
     },
     "execution_count": 38,
     "metadata": {},
     "output_type": "execute_result"
    }
   ],
   "source": [
    "desolve_rk4(deq,x,[0,-3],step=0.1,end_points=[0,2],output='plot')"
   ]
  },
  {
   "cell_type": "code",
   "execution_count": 23,
   "metadata": {},
   "outputs": [
    {
     "data": {
      "text/plain": [
       "[[x == 0, y == 0], [x == 4, y == -2], [x == 4, y == 2]]"
      ]
     },
     "execution_count": 23,
     "metadata": {},
     "output_type": "execute_result"
    }
   ],
   "source": [
    "#Exercitiul 4\n",
    "#a)\n",
    "reset()\n",
    "x,y = var('x,y')\n",
    "f1 = function('f1')(x,y)\n",
    "f2 = function('f2')(x,y)\n",
    "\n",
    "f1(x,y)=x*y^2-4*x\n",
    "f2(x,y)=y^2-x\n",
    "eq = solve([f1(x,y)==0,f2(x,y)==0],x,y)\n",
    "eq"
   ]
  },
  {
   "cell_type": "code",
   "execution_count": 24,
   "metadata": {},
   "outputs": [
    {
     "data": {
      "text/plain": [
       "[y^2 - 4   2*x*y]\n",
       "[     -1     2*y]"
      ]
     },
     "execution_count": 24,
     "metadata": {},
     "output_type": "execute_result"
    }
   ],
   "source": [
    "#b)\n",
    "j = jacobian((f1(x,y),f2(x,y)),(x,y))\n",
    "j"
   ]
  },
  {
   "cell_type": "code",
   "execution_count": 25,
   "metadata": {},
   "outputs": [
    {
     "data": {
      "text/plain": [
       "[-4  0]\n",
       "[-1  0]"
      ]
     },
     "execution_count": 25,
     "metadata": {},
     "output_type": "execute_result"
    }
   ],
   "source": [
    "#pt x=0,y=0\n",
    "j(x=0,y=0)"
   ]
  },
  {
   "cell_type": "code",
   "execution_count": 26,
   "metadata": {},
   "outputs": [
    {
     "data": {
      "text/plain": [
       "[-4, 0]"
      ]
     },
     "execution_count": 26,
     "metadata": {},
     "output_type": "execute_result"
    }
   ],
   "source": [
    "j(x=0,y=0).eigenvalues()"
   ]
  },
  {
   "cell_type": "code",
   "execution_count": 27,
   "metadata": {},
   "outputs": [
    {
     "data": {
      "text/plain": [
       "[-2*sqrt(5) - 2, 2*sqrt(5) - 2]"
      ]
     },
     "execution_count": 27,
     "metadata": {},
     "output_type": "execute_result"
    }
   ],
   "source": [
    "#pt x=4,y=-2\n",
    "j(x=4,y=-2).eigenvalues()"
   ]
  },
  {
   "cell_type": "code",
   "execution_count": 28,
   "metadata": {},
   "outputs": [
    {
     "data": {
      "text/plain": [
       "[-2*I*sqrt(3) + 2, 2*I*sqrt(3) + 2]"
      ]
     },
     "execution_count": 28,
     "metadata": {},
     "output_type": "execute_result"
    }
   ],
   "source": [
    "#pt x=4,y=2\n",
    "j(x=4,y=2).eigenvalues()"
   ]
  },
  {
   "cell_type": "code",
   "execution_count": null,
   "metadata": {},
   "outputs": [],
   "source": []
  }
 ],
 "metadata": {
  "kernelspec": {
   "display_name": "SageMath 9.3",
   "language": "sage",
   "name": "sagemath"
  },
  "language_info": {
   "codemirror_mode": {
    "name": "ipython",
    "version": 3
   },
   "file_extension": ".py",
   "mimetype": "text/x-python",
   "name": "python",
   "nbconvert_exporter": "python",
   "pygments_lexer": "ipython3",
   "version": "3.7.10"
  }
 },
 "nbformat": 4,
 "nbformat_minor": 4
}
